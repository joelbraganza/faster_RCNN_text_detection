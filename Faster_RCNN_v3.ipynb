{
  "nbformat": 4,
  "nbformat_minor": 0,
  "metadata": {
    "colab": {
      "name": "Faster RCNN v3.ipynb",
      "provenance": [],
      "collapsed_sections": []
    },
    "kernelspec": {
      "name": "python3",
      "display_name": "Python 3"
    },
    "language_info": {
      "name": "python"
    },
    "accelerator": "GPU"
  },
  "cells": [
    {
      "cell_type": "code",
      "execution_count": null,
      "metadata": {
        "id": "DLR_kT4kajli"
      },
      "outputs": [],
      "source": [
        "#from torch_snippets import *\n",
        "import pandas as pd\n",
        "import numpy as np\n",
        "from PIL import Image\n",
        "import torch\n",
        "import torchvision\n",
        "import glob\n",
        "#from pytorchtools import EarlyStopping\n",
        "#IMAGE_ROOT = 'images/images'\n",
        "#DF_RAW = df = pd.read_csv('df.csv')"
      ]
    },
    {
      "cell_type": "markdown",
      "source": [
        "For SSD **module**"
      ],
      "metadata": {
        "id": "1zbi9vEdkATP"
      }
    },
    {
      "cell_type": "code",
      "source": [
        "!git clone https://github.com/sizhky/ssd-utils/"
      ],
      "metadata": {
        "colab": {
          "base_uri": "https://localhost:8080/"
        },
        "id": "aIRbBN7djkhE",
        "outputId": "f6a91e16-823b-4362-89c2-68b43b507165"
      },
      "execution_count": null,
      "outputs": [
        {
          "output_type": "stream",
          "name": "stdout",
          "text": [
            "Cloning into 'ssd-utils'...\n",
            "remote: Enumerating objects: 9, done.\u001b[K\n",
            "remote: Counting objects: 100% (9/9), done.\u001b[K\n",
            "remote: Compressing objects: 100% (8/8), done.\u001b[K\n",
            "remote: Total 9 (delta 0), reused 0 (delta 0), pack-reused 0\u001b[K\n",
            "Unpacking objects: 100% (9/9), done.\n"
          ]
        }
      ]
    },
    {
      "cell_type": "code",
      "source": [
        "%cd ssd-utils"
      ],
      "metadata": {
        "id": "yUkYvYLHj7FL"
      },
      "execution_count": null,
      "outputs": []
    },
    {
      "cell_type": "code",
      "source": [
        ""
      ],
      "metadata": {
        "id": "us2wq0QRtJUj"
      },
      "execution_count": null,
      "outputs": []
    },
    {
      "cell_type": "code",
      "source": [
        "class EarlyStopping:\n",
        "    \"\"\"Early stops the training if validation loss doesn't improve after a given patience.\"\"\"\n",
        "    def __init__(self, patience=7, verbose=False, delta=0, path='checkpoint.pt', trace_func=print):\n",
        "        \"\"\"\n",
        "        Args:\n",
        "            patience (int): How long to wait after last time validation loss improved.\n",
        "                            Default: 7\n",
        "            verbose (bool): If True, prints a message for each validation loss improvement. \n",
        "                            Default: False\n",
        "            delta (float): Minimum change in the monitored quantity to qualify as an improvement.\n",
        "                            Default: 0\n",
        "            path (str): Path for the checkpoint to be saved to.\n",
        "                            Default: 'checkpoint.pt'\n",
        "            trace_func (function): trace print function.\n",
        "                            Default: print            \n",
        "        \"\"\"\n",
        "        self.patience = patience\n",
        "        self.verbose = verbose\n",
        "        self.counter = 0\n",
        "        self.best_score = None\n",
        "        self.early_stop = False\n",
        "        self.val_loss_min = np.Inf\n",
        "        self.delta = delta\n",
        "        self.path = path\n",
        "        self.trace_func = trace_func\n",
        "    def __call__(self, val_loss, model):\n",
        "\n",
        "        score = -val_loss\n",
        "\n",
        "        if self.best_score is None:\n",
        "            self.best_score = score\n",
        "            self.save_checkpoint(val_loss, model)\n",
        "        elif score < self.best_score + self.delta:\n",
        "            self.counter += 1\n",
        "            self.trace_func(f'EarlyStopping counter: {self.counter} out of {self.patience}')\n",
        "            if self.counter >= self.patience:\n",
        "                self.early_stop = True\n",
        "        else:\n",
        "            self.best_score = score\n",
        "            self.save_checkpoint(val_loss, model)\n",
        "            self.counter = 0\n",
        "\n",
        "    def save_checkpoint(self, val_loss, model):\n",
        "        '''Saves model when validation loss decrease.'''\n",
        "        if self.verbose:\n",
        "            self.trace_func(f'Validation loss decreased ({self.val_loss_min:.6f} --> {val_loss:.6f}).  Saving model ...')\n",
        "        torch.save(model.state_dict(), self.path)\n",
        "        self.val_loss_min = val_loss"
      ],
      "metadata": {
        "id": "9U87A5ogOEsr"
      },
      "execution_count": null,
      "outputs": []
    },
    {
      "cell_type": "code",
      "source": [
        "!pip install pytorchtools"
      ],
      "metadata": {
        "colab": {
          "base_uri": "https://localhost:8080/"
        },
        "id": "HG7qRH_WIR-j",
        "outputId": "d9af4830-0c18-42da-fa1a-503909c1a50d"
      },
      "execution_count": null,
      "outputs": [
        {
          "output_type": "stream",
          "name": "stdout",
          "text": [
            "Requirement already satisfied: pytorchtools in /usr/local/lib/python3.7/dist-packages (0.0.2)\n"
          ]
        }
      ]
    },
    {
      "cell_type": "markdown",
      "source": [
        "\n",
        "*   Source: https://github.com/PacktPublishing/Modern-Computer-Vision-with-PyTorch/blob/master/Chapter08/Training_Faster_RCNN.ipynb\n",
        "\n"
      ],
      "metadata": {
        "id": "AzdXSWGkA5mK"
      }
    },
    {
      "cell_type": "code",
      "source": [
        "EarlyStopping reference:"
      ],
      "metadata": {
        "id": "iMvk9vBbOHg3"
      },
      "execution_count": null,
      "outputs": []
    },
    {
      "cell_type": "markdown",
      "source": [
        "https://github.com/Bjarten/early-stopping-pytorch/blob/master/MNIST_Early_Stopping_example.ipynb\n"
      ],
      "metadata": {
        "id": "WS8rrgXbOK4P"
      }
    },
    {
      "cell_type": "markdown",
      "source": [
        ""
      ],
      "metadata": {
        "id": "RgUf1DdnA5rU"
      }
    },
    {
      "cell_type": "code",
      "source": [
        "from google.colab import drive\n",
        "drive.mount('./mount')"
      ],
      "metadata": {
        "colab": {
          "base_uri": "https://localhost:8080/"
        },
        "id": "z0WajCzxpRBt",
        "outputId": "08cf390d-bffc-4dfd-83a8-cb72b51904ed"
      },
      "execution_count": null,
      "outputs": [
        {
          "output_type": "stream",
          "name": "stdout",
          "text": [
            "Mounted at ./mount\n"
          ]
        }
      ]
    },
    {
      "cell_type": "code",
      "source": [
        "!nvidia-smi\n",
        "# this line is to check which GPU you have been allocated\n",
        "# if you want a different GPU, do 'Factory Reset Runtime' and then run this command again."
      ],
      "metadata": {
        "colab": {
          "base_uri": "https://localhost:8080/"
        },
        "id": "PLl0KR5CpYbi",
        "outputId": "2ca1881d-418d-4e5e-9135-effb0134a023"
      },
      "execution_count": null,
      "outputs": [
        {
          "output_type": "stream",
          "name": "stdout",
          "text": [
            "Mon Apr  4 11:00:11 2022       \n",
            "+-----------------------------------------------------------------------------+\n",
            "| NVIDIA-SMI 460.32.03    Driver Version: 460.32.03    CUDA Version: 11.2     |\n",
            "|-------------------------------+----------------------+----------------------+\n",
            "| GPU  Name        Persistence-M| Bus-Id        Disp.A | Volatile Uncorr. ECC |\n",
            "| Fan  Temp  Perf  Pwr:Usage/Cap|         Memory-Usage | GPU-Util  Compute M. |\n",
            "|                               |                      |               MIG M. |\n",
            "|===============================+======================+======================|\n",
            "|   0  Tesla K80           Off  | 00000000:00:04.0 Off |                    0 |\n",
            "| N/A   33C    P8    28W / 149W |      0MiB / 11441MiB |      0%      Default |\n",
            "|                               |                      |                  N/A |\n",
            "+-------------------------------+----------------------+----------------------+\n",
            "                                                                               \n",
            "+-----------------------------------------------------------------------------+\n",
            "| Processes:                                                                  |\n",
            "|  GPU   GI   CI        PID   Type   Process name                  GPU Memory |\n",
            "|        ID   ID                                                   Usage      |\n",
            "|=============================================================================|\n",
            "|  No running processes found                                                 |\n",
            "+-----------------------------------------------------------------------------+\n"
          ]
        }
      ]
    },
    {
      "cell_type": "code",
      "source": [
        "# checking if cuda is available\n",
        "from torch import device as device_\n",
        "\n",
        "device = device_(\"cuda\" if torch.cuda.is_available() else \"cpu\")\n",
        "print(device)"
      ],
      "metadata": {
        "colab": {
          "base_uri": "https://localhost:8080/"
        },
        "id": "Y4L1fGiRpy07",
        "outputId": "98e0efbc-0b6a-46ba-de16-df0af945037b"
      },
      "execution_count": null,
      "outputs": [
        {
          "output_type": "stream",
          "name": "stdout",
          "text": [
            "cuda\n"
          ]
        }
      ]
    },
    {
      "cell_type": "code",
      "source": [
        "import os\n",
        "anotpath ='mount/My Drive/doctr_data/annotations/'\n",
        "imagepath = 'mount/My Drive/doctr_data/training/'\n",
        "anotfiles = os.listdir(anotpath)\n",
        "imagefiles = os.listdir(imagepath)"
      ],
      "metadata": {
        "id": "4IjBb_DCawHH"
      },
      "execution_count": null,
      "outputs": []
    },
    {
      "cell_type": "code",
      "source": [
        ""
      ],
      "metadata": {
        "id": "IBv2wsNbdKnR"
      },
      "execution_count": null,
      "outputs": []
    },
    {
      "cell_type": "code",
      "source": [
        "import json\n",
        "anot1 = open(anotpath+'/'+anotfiles[0],'r').readlines() # the json file with all details\n",
        "coordinates = json.loads(anot1[0])\n",
        "for f in coordinates:\n",
        "  if f not in imagefiles:\n",
        "    print(f)\n",
        "#images10 = imagefiles[:10]\n",
        "#boxesAll = [coordinates[i]['polygons'] for i in imagesfiles]\n",
        "#boxes10 = np.array([np.array([np.array([box[0][0],box[0][1],box[3][0],box[3][1]]) for box in boxes]) for boxes in boxesAll])\n",
        "#images = [imagepath+'/'+imagefile for imagefile in images10]\n",
        "#newImages10 = [cv2.imread(img) for img in images]"
      ],
      "metadata": {
        "colab": {
          "base_uri": "https://localhost:8080/"
        },
        "id": "qiGeNlvabCoi",
        "outputId": "c48a2038-95cf-46fd-e3d4-d110eeff5fe9"
      },
      "execution_count": null,
      "outputs": [
        {
          "output_type": "stream",
          "name": "stdout",
          "text": [
            "sample_img_3.png\n",
            "sample_img_17.png\n",
            "sample_img_20.png\n",
            "sample_img_23.png\n",
            "sample_img_31.png\n",
            "sample_img_60.png\n",
            "sample_img_81.png\n",
            "sample_img_89.png\n",
            "sample_img_91.png\n",
            "sample_img_94.png\n",
            "sample_img_114.png\n",
            "sample_img_125.png\n",
            "sample_img_130.png\n"
          ]
        }
      ]
    },
    {
      "cell_type": "code",
      "source": [
        ""
      ],
      "metadata": {
        "id": "lIamv4BvRYjZ"
      },
      "execution_count": null,
      "outputs": []
    },
    {
      "cell_type": "code",
      "source": [
        "list(img for img in coordinates)"
      ],
      "metadata": {
        "id": "L9IEFRChNLN4"
      },
      "execution_count": null,
      "outputs": []
    },
    {
      "cell_type": "code",
      "source": [
        "imagefiles"
      ],
      "metadata": {
        "id": "Ch43JaUFNb0C"
      },
      "execution_count": null,
      "outputs": []
    },
    {
      "cell_type": "code",
      "source": [
        "data=[]\n",
        "for image in imagefiles:\n",
        "  imageName=image\n",
        "  innerValues = coordinates[image]\n",
        "  imageShape = innerValues['img_dimensions']\n",
        "  boxes = innerValues['polygons']\n",
        "  for i in range(len(boxes)):\n",
        "    box = boxes[i]\n",
        "    data.append(np.array([imageName,box[0][0],box[0][1],box[3][0],box[3][1],imageShape,'text']))\n",
        "\n",
        "data = np.array(data)\n",
        "np.random.shuffle(data)    "
      ],
      "metadata": {
        "colab": {
          "base_uri": "https://localhost:8080/"
        },
        "id": "BTjyjB0LlMOG",
        "outputId": "21c6b49b-4633-455c-ba8f-333cf8efb6d9"
      },
      "execution_count": null,
      "outputs": [
        {
          "output_type": "stream",
          "name": "stderr",
          "text": [
            "/usr/local/lib/python3.7/dist-packages/ipykernel_launcher.py:9: VisibleDeprecationWarning: Creating an ndarray from ragged nested sequences (which is a list-or-tuple of lists-or-tuples-or ndarrays with different lengths or shapes) is deprecated. If you meant to do this, you must specify 'dtype=object' when creating the ndarray.\n",
            "  if __name__ == '__main__':\n"
          ]
        }
      ]
    },
    {
      "cell_type": "code",
      "source": [
        "len(data)"
      ],
      "metadata": {
        "colab": {
          "base_uri": "https://localhost:8080/"
        },
        "id": "n8YVUzf-PI52",
        "outputId": "afd76c0a-b332-4c9f-b870-ebdcb324b009"
      },
      "execution_count": null,
      "outputs": [
        {
          "output_type": "execute_result",
          "data": {
            "text/plain": [
              "6204"
            ]
          },
          "metadata": {},
          "execution_count": 83
        }
      ]
    },
    {
      "cell_type": "code",
      "source": [
        "print (len(data))\n",
        "data = data[:(int(len(data)/3))]\n",
        "print (len(data))"
      ],
      "metadata": {
        "colab": {
          "base_uri": "https://localhost:8080/"
        },
        "id": "D9OJ96PpHzvk",
        "outputId": "458fbafe-eaad-46d3-e91a-204ce91429d3"
      },
      "execution_count": null,
      "outputs": [
        {
          "output_type": "stream",
          "name": "stdout",
          "text": [
            "6204\n",
            "2068\n"
          ]
        }
      ]
    },
    {
      "cell_type": "code",
      "source": [
        "data[:5]"
      ],
      "metadata": {
        "colab": {
          "base_uri": "https://localhost:8080/"
        },
        "id": "uGynQQi-o4Ak",
        "outputId": "681840e0-2f0f-4895-8018-830f41fffa64"
      },
      "execution_count": null,
      "outputs": [
        {
          "output_type": "execute_result",
          "data": {
            "text/plain": [
              "array([['sample_img_113.png', 44.0, 962.0, 149.0, 1038.0,\n",
              "        list([2017, 936, 3]), 1],\n",
              "       ['sample_img_61.png', 242.0, 848.0, 304.0, 871.0,\n",
              "        list([1555, 619, 3]), 1],\n",
              "       ['sample_img_76.png', 596.0, 1327.0, 769.0, 1357.0,\n",
              "        list([2264, 890, 3]), 1],\n",
              "       ['sample_img_97.png', 207.0, 335.0, 507.0, 370.0,\n",
              "        list([1659, 706, 3]), 1],\n",
              "       ['sample_img_42.png', 564.0, 1542.0, 657.0, 1574.0,\n",
              "        list([2053, 702, 3]), 1]], dtype=object)"
            ]
          },
          "metadata": {},
          "execution_count": 14
        }
      ]
    },
    {
      "cell_type": "code",
      "source": [
        "df = pd.DataFrame(data,columns=['ImageID','XMin','YMin','XMax','YMax','image_shape','LabelName'])\n",
        "df.head()"
      ],
      "metadata": {
        "colab": {
          "base_uri": "https://localhost:8080/",
          "height": 206
        },
        "id": "3idA1jPHk7bV",
        "outputId": "d3c1a723-6abc-4843-c4e1-c4c9a99805ed"
      },
      "execution_count": null,
      "outputs": [
        {
          "output_type": "execute_result",
          "data": {
            "text/plain": [
              "              ImageID   XMin    YMin   XMax    YMax     image_shape LabelName\n",
              "0   sample_img_78.png   25.0   385.0  111.0   407.0  [1312, 616, 3]      text\n",
              "1  sample_img_103.png  320.0  1243.0  426.0  1266.0  [1334, 791, 3]      text\n",
              "2   sample_img_30.png   93.0  1320.0  265.0  1355.0  [1799, 795, 3]      text\n",
              "3   sample_img_28.png  243.0   659.0  351.0   684.0  [1475, 619, 3]      text\n",
              "4   sample_img_21.png  364.0   492.0  414.0   517.0  [1072, 584, 3]      text"
            ],
            "text/html": [
              "\n",
              "  <div id=\"df-a2eaaf6b-1f03-4228-93a7-b7bbb8ad45d1\">\n",
              "    <div class=\"colab-df-container\">\n",
              "      <div>\n",
              "<style scoped>\n",
              "    .dataframe tbody tr th:only-of-type {\n",
              "        vertical-align: middle;\n",
              "    }\n",
              "\n",
              "    .dataframe tbody tr th {\n",
              "        vertical-align: top;\n",
              "    }\n",
              "\n",
              "    .dataframe thead th {\n",
              "        text-align: right;\n",
              "    }\n",
              "</style>\n",
              "<table border=\"1\" class=\"dataframe\">\n",
              "  <thead>\n",
              "    <tr style=\"text-align: right;\">\n",
              "      <th></th>\n",
              "      <th>ImageID</th>\n",
              "      <th>XMin</th>\n",
              "      <th>YMin</th>\n",
              "      <th>XMax</th>\n",
              "      <th>YMax</th>\n",
              "      <th>image_shape</th>\n",
              "      <th>LabelName</th>\n",
              "    </tr>\n",
              "  </thead>\n",
              "  <tbody>\n",
              "    <tr>\n",
              "      <th>0</th>\n",
              "      <td>sample_img_78.png</td>\n",
              "      <td>25.0</td>\n",
              "      <td>385.0</td>\n",
              "      <td>111.0</td>\n",
              "      <td>407.0</td>\n",
              "      <td>[1312, 616, 3]</td>\n",
              "      <td>text</td>\n",
              "    </tr>\n",
              "    <tr>\n",
              "      <th>1</th>\n",
              "      <td>sample_img_103.png</td>\n",
              "      <td>320.0</td>\n",
              "      <td>1243.0</td>\n",
              "      <td>426.0</td>\n",
              "      <td>1266.0</td>\n",
              "      <td>[1334, 791, 3]</td>\n",
              "      <td>text</td>\n",
              "    </tr>\n",
              "    <tr>\n",
              "      <th>2</th>\n",
              "      <td>sample_img_30.png</td>\n",
              "      <td>93.0</td>\n",
              "      <td>1320.0</td>\n",
              "      <td>265.0</td>\n",
              "      <td>1355.0</td>\n",
              "      <td>[1799, 795, 3]</td>\n",
              "      <td>text</td>\n",
              "    </tr>\n",
              "    <tr>\n",
              "      <th>3</th>\n",
              "      <td>sample_img_28.png</td>\n",
              "      <td>243.0</td>\n",
              "      <td>659.0</td>\n",
              "      <td>351.0</td>\n",
              "      <td>684.0</td>\n",
              "      <td>[1475, 619, 3]</td>\n",
              "      <td>text</td>\n",
              "    </tr>\n",
              "    <tr>\n",
              "      <th>4</th>\n",
              "      <td>sample_img_21.png</td>\n",
              "      <td>364.0</td>\n",
              "      <td>492.0</td>\n",
              "      <td>414.0</td>\n",
              "      <td>517.0</td>\n",
              "      <td>[1072, 584, 3]</td>\n",
              "      <td>text</td>\n",
              "    </tr>\n",
              "  </tbody>\n",
              "</table>\n",
              "</div>\n",
              "      <button class=\"colab-df-convert\" onclick=\"convertToInteractive('df-a2eaaf6b-1f03-4228-93a7-b7bbb8ad45d1')\"\n",
              "              title=\"Convert this dataframe to an interactive table.\"\n",
              "              style=\"display:none;\">\n",
              "        \n",
              "  <svg xmlns=\"http://www.w3.org/2000/svg\" height=\"24px\"viewBox=\"0 0 24 24\"\n",
              "       width=\"24px\">\n",
              "    <path d=\"M0 0h24v24H0V0z\" fill=\"none\"/>\n",
              "    <path d=\"M18.56 5.44l.94 2.06.94-2.06 2.06-.94-2.06-.94-.94-2.06-.94 2.06-2.06.94zm-11 1L8.5 8.5l.94-2.06 2.06-.94-2.06-.94L8.5 2.5l-.94 2.06-2.06.94zm10 10l.94 2.06.94-2.06 2.06-.94-2.06-.94-.94-2.06-.94 2.06-2.06.94z\"/><path d=\"M17.41 7.96l-1.37-1.37c-.4-.4-.92-.59-1.43-.59-.52 0-1.04.2-1.43.59L10.3 9.45l-7.72 7.72c-.78.78-.78 2.05 0 2.83L4 21.41c.39.39.9.59 1.41.59.51 0 1.02-.2 1.41-.59l7.78-7.78 2.81-2.81c.8-.78.8-2.07 0-2.86zM5.41 20L4 18.59l7.72-7.72 1.47 1.35L5.41 20z\"/>\n",
              "  </svg>\n",
              "      </button>\n",
              "      \n",
              "  <style>\n",
              "    .colab-df-container {\n",
              "      display:flex;\n",
              "      flex-wrap:wrap;\n",
              "      gap: 12px;\n",
              "    }\n",
              "\n",
              "    .colab-df-convert {\n",
              "      background-color: #E8F0FE;\n",
              "      border: none;\n",
              "      border-radius: 50%;\n",
              "      cursor: pointer;\n",
              "      display: none;\n",
              "      fill: #1967D2;\n",
              "      height: 32px;\n",
              "      padding: 0 0 0 0;\n",
              "      width: 32px;\n",
              "    }\n",
              "\n",
              "    .colab-df-convert:hover {\n",
              "      background-color: #E2EBFA;\n",
              "      box-shadow: 0px 1px 2px rgba(60, 64, 67, 0.3), 0px 1px 3px 1px rgba(60, 64, 67, 0.15);\n",
              "      fill: #174EA6;\n",
              "    }\n",
              "\n",
              "    [theme=dark] .colab-df-convert {\n",
              "      background-color: #3B4455;\n",
              "      fill: #D2E3FC;\n",
              "    }\n",
              "\n",
              "    [theme=dark] .colab-df-convert:hover {\n",
              "      background-color: #434B5C;\n",
              "      box-shadow: 0px 1px 3px 1px rgba(0, 0, 0, 0.15);\n",
              "      filter: drop-shadow(0px 1px 2px rgba(0, 0, 0, 0.3));\n",
              "      fill: #FFFFFF;\n",
              "    }\n",
              "  </style>\n",
              "\n",
              "      <script>\n",
              "        const buttonEl =\n",
              "          document.querySelector('#df-a2eaaf6b-1f03-4228-93a7-b7bbb8ad45d1 button.colab-df-convert');\n",
              "        buttonEl.style.display =\n",
              "          google.colab.kernel.accessAllowed ? 'block' : 'none';\n",
              "\n",
              "        async function convertToInteractive(key) {\n",
              "          const element = document.querySelector('#df-a2eaaf6b-1f03-4228-93a7-b7bbb8ad45d1');\n",
              "          const dataTable =\n",
              "            await google.colab.kernel.invokeFunction('convertToInteractive',\n",
              "                                                     [key], {});\n",
              "          if (!dataTable) return;\n",
              "\n",
              "          const docLinkHtml = 'Like what you see? Visit the ' +\n",
              "            '<a target=\"_blank\" href=https://colab.research.google.com/notebooks/data_table.ipynb>data table notebook</a>'\n",
              "            + ' to learn more about interactive tables.';\n",
              "          element.innerHTML = '';\n",
              "          dataTable['output_type'] = 'display_data';\n",
              "          await google.colab.output.renderOutput(dataTable, element);\n",
              "          const docLink = document.createElement('div');\n",
              "          docLink.innerHTML = docLinkHtml;\n",
              "          element.appendChild(docLink);\n",
              "        }\n",
              "      </script>\n",
              "    </div>\n",
              "  </div>\n",
              "  "
            ]
          },
          "metadata": {},
          "execution_count": 19
        }
      ]
    },
    {
      "cell_type": "code",
      "source": [
        "'sample_img_.png' in df['ImageID'].values"
      ],
      "metadata": {
        "colab": {
          "base_uri": "https://localhost:8080/"
        },
        "id": "o8L1Dn3EPYx0",
        "outputId": "d2c716f3-48da-4521-faf0-dae1cf694c5c"
      },
      "execution_count": null,
      "outputs": [
        {
          "output_type": "execute_result",
          "data": {
            "text/plain": [
              "True"
            ]
          },
          "metadata": {},
          "execution_count": 78
        }
      ]
    },
    {
      "cell_type": "code",
      "source": [
        "\n",
        "label2target = {l:t+1 for t,l in enumerate(df['LabelName'].unique())}\n",
        "label2target = {'background':0,'text':1}\n",
        "background_class = label2target['background']\n",
        "num_classes = len(label2target)\n",
        "target2label = {t:l for l,t in label2target.items()}"
      ],
      "metadata": {
        "id": "IVqZcsMWejhw"
      },
      "execution_count": null,
      "outputs": []
    },
    {
      "cell_type": "code",
      "source": [
        "target2label"
      ],
      "metadata": {
        "colab": {
          "base_uri": "https://localhost:8080/"
        },
        "id": "H52s4bwZKPp8",
        "outputId": "19560be9-fcf8-4912-e81b-04d9774fd319"
      },
      "execution_count": null,
      "outputs": [
        {
          "output_type": "execute_result",
          "data": {
            "text/plain": [
              "{0: 'background', 1: 'text'}"
            ]
          },
          "metadata": {},
          "execution_count": 60
        }
      ]
    },
    {
      "cell_type": "code",
      "source": [
        ""
      ],
      "metadata": {
        "id": "r11lPY2gKPIS"
      },
      "execution_count": null,
      "outputs": []
    },
    {
      "cell_type": "code",
      "source": [
        "def preprocess_image(img):\n",
        "    img = torch.tensor(img).permute(2,0,1)\n",
        "    return img.to(device).float()"
      ],
      "metadata": {
        "id": "MC60iSexfs_c"
      },
      "execution_count": null,
      "outputs": []
    },
    {
      "cell_type": "code",
      "source": [
        "from torch.utils.data import DataLoader,Dataset\n",
        "IMAGE_ROOT=imagepath\n",
        "\n",
        "class OpenDataset(Dataset): \n",
        "    #w, h = 224, 224\n",
        "  def __init__(self, df, image_dir=IMAGE_ROOT):\n",
        "    super().__init__()\n",
        "    self.image_dir = image_dir\n",
        "    #self.files = glob.glob(self.image_dir+'/*')\n",
        "    self.df = df\n",
        "    self.image_infos = df.ImageID.unique()\n",
        "\n",
        "  def __getitem__(self, ix):\n",
        "    # load images and masks\n",
        "    image_id = self.image_infos[ix]\n",
        "    img_path = imagepath+'/'+image_id\n",
        "    img = Image.open(img_path).convert(\"RGB\")\n",
        "    #img = cv2.cvtColor(cv2.imread(img_path),cv2.COLOR_BGR2RGB)\n",
        "\n",
        "    \n",
        "    #img = np.array(img.resize((self.w, self.h), resample=Image.BILINEAR))/255.\n",
        "    img = np.array(img)/255\n",
        "    data = self.df[df['ImageID'] == image_id]\n",
        "    labels = data['LabelName'].values.tolist()\n",
        "    data = data[['XMin','YMin','XMax','YMax']].values\n",
        "    #data[:,[0,2]] *= self.w # for resizing the images\n",
        "    #data[:,[1,3]] *= self.h # for resizing the images\n",
        "    boxes = data.astype(np.uint32).tolist() # convert to absolute coordinates\n",
        "    # torch FRCNN expects ground truths as a dictionary of tensors\n",
        "    target = {}\n",
        "    target[\"boxes\"] = torch.Tensor(boxes).float()\n",
        "    target[\"labels\"] = torch.Tensor([label2target[i] for i in labels]).long()\n",
        "    img = preprocess_image(img)\n",
        "    return img, target\n",
        "\n",
        "  def collate_fn(self, batch):\n",
        "    return tuple(zip(*batch)) \n",
        "\n",
        "  def __len__(self):\n",
        "    return len(self.image_infos)"
      ],
      "metadata": {
        "id": "7v0P4SZ2f2eT"
      },
      "execution_count": null,
      "outputs": []
    },
    {
      "cell_type": "code",
      "source": [
        "from sklearn.model_selection import train_test_split\n",
        "\n",
        "\n",
        "trn_ids, val_ids = train_test_split(df['ImageID'].unique(), test_size=0.1, random_state=99)\n",
        "trn_df, val_df = df[df['ImageID'].isin(trn_ids)], df[df['ImageID'].isin(val_ids)]\n",
        "print ('training length: ',len(trn_df),' validation length:', len(val_df))\n",
        "\n",
        "train_ds = OpenDataset(trn_df)\n",
        "test_ds = OpenDataset(val_df)\n",
        "\n",
        "train_loader = DataLoader(train_ds, batch_size=4, collate_fn=train_ds.collate_fn, drop_last=True)\n",
        "test_loader = DataLoader(test_ds, batch_size=4, collate_fn=test_ds.collate_fn, drop_last=True)"
      ],
      "metadata": {
        "id": "Mk9z27dvf2hT",
        "colab": {
          "base_uri": "https://localhost:8080/"
        },
        "outputId": "33e7c49b-033a-456a-a7f0-3f552d35513e"
      },
      "execution_count": null,
      "outputs": [
        {
          "output_type": "stream",
          "name": "stdout",
          "text": [
            "training length:  1861  validation length: 207\n"
          ]
        }
      ]
    },
    {
      "cell_type": "code",
      "source": [
        "from torchvision.models.detection.faster_rcnn import FastRCNNPredictor\n",
        "\n",
        "device = 'cuda' if torch.cuda.is_available() else 'cpu'\n",
        "\n",
        "def get_model():\n",
        "    model = torchvision.models.detection.fasterrcnn_resnet50_fpn(pretrained=True)\n",
        "    # get number of input features for the classifier\n",
        "    in_features = model.roi_heads.box_predictor.cls_score.in_features\n",
        "    # replace the pre-trained head with a new one\n",
        "    model.roi_heads.box_predictor = FastRCNNPredictor(in_features, num_classes)\n",
        "    return model"
      ],
      "metadata": {
        "id": "qKzF22W0e2VL"
      },
      "execution_count": null,
      "outputs": []
    },
    {
      "cell_type": "code",
      "source": [
        "# Defining training and validation functions for a single batch\n",
        "def train_batch(inputs, model, optimizer):\n",
        "    model.train()\n",
        "    input, targets = inputs\n",
        "    input = list(image.to(device) for image in input)\n",
        "    targets = [{k: v.to(device) for k, v in t.items()} for t in targets]\n",
        "    optimizer.zero_grad()\n",
        "    losses = model(input, targets)\n",
        "    loss = sum(loss for loss in losses.values())\n",
        "    loss.backward()\n",
        "    optimizer.step()\n",
        "    return loss, losses\n",
        "\n",
        "@torch.no_grad() # this will disable gradient computation in the function below\n",
        "def validate_batch(inputs, model):\n",
        "    model.train() # to obtain the losses, model needs to be in train mode only. # #Note that here we are not defining the model's forward method \n",
        "    # and hence need to work per the way the model class is defined\n",
        "    input, targets = inputs\n",
        "    input = list(image.to(device) for image in input)\n",
        "    targets = [{k: v.to(device) for k, v in t.items()} for t in targets]\n",
        "\n",
        "    optimizer.zero_grad()\n",
        "    losses = model(input, targets)\n",
        "    loss = sum(loss for loss in losses.values())\n",
        "    return loss, losses"
      ],
      "metadata": {
        "id": "WrAjKJ9kejlj"
      },
      "execution_count": null,
      "outputs": []
    },
    {
      "cell_type": "code",
      "source": [
        "!pip install torch_snippets"
      ],
      "metadata": {
        "id": "Y-JdZmr52voJ",
        "colab": {
          "base_uri": "https://localhost:8080/",
          "height": 1000
        },
        "outputId": "a6abf4f3-fc6a-4d2c-fc9f-085b2daab4ad"
      },
      "execution_count": null,
      "outputs": [
        {
          "output_type": "stream",
          "name": "stdout",
          "text": [
            "Collecting torch_snippets\n",
            "  Downloading torch_snippets-0.485-py3-none-any.whl (45 kB)\n",
            "\u001b[K     |████████████████████████████████| 45 kB 1.7 MB/s \n",
            "\u001b[?25hCollecting pydantic\n",
            "  Downloading pydantic-1.9.0-cp37-cp37m-manylinux_2_17_x86_64.manylinux2014_x86_64.whl (10.9 MB)\n",
            "\u001b[K     |████████████████████████████████| 10.9 MB 7.4 MB/s \n",
            "\u001b[?25hCollecting jsonlines\n",
            "  Downloading jsonlines-3.0.0-py3-none-any.whl (8.5 kB)\n",
            "Collecting typing\n",
            "  Downloading typing-3.7.4.3.tar.gz (78 kB)\n",
            "\u001b[K     |████████████████████████████████| 78 kB 6.9 MB/s \n",
            "\u001b[?25hRequirement already satisfied: ipython in /usr/local/lib/python3.7/dist-packages (from torch_snippets) (5.5.0)\n",
            "Requirement already satisfied: altair in /usr/local/lib/python3.7/dist-packages (from torch_snippets) (4.2.0)\n",
            "Collecting imgaug>=0.4.0\n",
            "  Downloading imgaug-0.4.0-py2.py3-none-any.whl (948 kB)\n",
            "\u001b[K     |████████████████████████████████| 948 kB 43.7 MB/s \n",
            "\u001b[?25hRequirement already satisfied: wasabi in /usr/local/lib/python3.7/dist-packages (from torch_snippets) (0.9.0)\n",
            "Requirement already satisfied: numpy in /usr/local/lib/python3.7/dist-packages (from torch_snippets) (1.21.5)\n",
            "Requirement already satisfied: matplotlib in /usr/local/lib/python3.7/dist-packages (from torch_snippets) (3.2.2)\n",
            "Collecting fastcore\n",
            "  Downloading fastcore-1.4.1-py3-none-any.whl (56 kB)\n",
            "\u001b[K     |████████████████████████████████| 56 kB 4.5 MB/s \n",
            "\u001b[?25hRequirement already satisfied: pandas in /usr/local/lib/python3.7/dist-packages (from torch_snippets) (1.3.5)\n",
            "Collecting loguru\n",
            "  Downloading loguru-0.6.0-py3-none-any.whl (58 kB)\n",
            "\u001b[K     |████████████████████████████████| 58 kB 6.0 MB/s \n",
            "\u001b[?25hRequirement already satisfied: srsly in /usr/local/lib/python3.7/dist-packages (from torch_snippets) (1.0.5)\n",
            "Collecting rich\n",
            "  Downloading rich-12.1.0-py3-none-any.whl (229 kB)\n",
            "\u001b[K     |████████████████████████████████| 229 kB 52.4 MB/s \n",
            "\u001b[?25hRequirement already satisfied: PyYAML in /usr/local/lib/python3.7/dist-packages (from torch_snippets) (3.13)\n",
            "Requirement already satisfied: Pillow in /usr/local/lib/python3.7/dist-packages (from torch_snippets) (7.1.2)\n",
            "Requirement already satisfied: tqdm in /usr/local/lib/python3.7/dist-packages (from torch_snippets) (4.63.0)\n",
            "Requirement already satisfied: dill in /usr/local/lib/python3.7/dist-packages (from torch_snippets) (0.3.4)\n",
            "Requirement already satisfied: typing-extensions in /usr/local/lib/python3.7/dist-packages (from torch_snippets) (3.10.0.2)\n",
            "Requirement already satisfied: catalogue in /usr/local/lib/python3.7/dist-packages (from torch_snippets) (1.0.0)\n",
            "Requirement already satisfied: Shapely in /usr/local/lib/python3.7/dist-packages (from imgaug>=0.4.0->torch_snippets) (1.8.1.post1)\n",
            "Requirement already satisfied: scipy in /usr/local/lib/python3.7/dist-packages (from imgaug>=0.4.0->torch_snippets) (1.4.1)\n",
            "Requirement already satisfied: opencv-python in /usr/local/lib/python3.7/dist-packages (from imgaug>=0.4.0->torch_snippets) (4.1.2.30)\n",
            "Requirement already satisfied: imageio in /usr/local/lib/python3.7/dist-packages (from imgaug>=0.4.0->torch_snippets) (2.4.1)\n",
            "Requirement already satisfied: scikit-image>=0.14.2 in /usr/local/lib/python3.7/dist-packages (from imgaug>=0.4.0->torch_snippets) (0.18.3)\n",
            "Requirement already satisfied: six in /usr/local/lib/python3.7/dist-packages (from imgaug>=0.4.0->torch_snippets) (1.15.0)\n",
            "Requirement already satisfied: tifffile>=2019.7.26 in /usr/local/lib/python3.7/dist-packages (from scikit-image>=0.14.2->imgaug>=0.4.0->torch_snippets) (2021.11.2)\n",
            "Requirement already satisfied: PyWavelets>=1.1.1 in /usr/local/lib/python3.7/dist-packages (from scikit-image>=0.14.2->imgaug>=0.4.0->torch_snippets) (1.3.0)\n",
            "Requirement already satisfied: networkx>=2.0 in /usr/local/lib/python3.7/dist-packages (from scikit-image>=0.14.2->imgaug>=0.4.0->torch_snippets) (2.6.3)\n",
            "Requirement already satisfied: cycler>=0.10 in /usr/local/lib/python3.7/dist-packages (from matplotlib->torch_snippets) (0.11.0)\n",
            "Requirement already satisfied: python-dateutil>=2.1 in /usr/local/lib/python3.7/dist-packages (from matplotlib->torch_snippets) (2.8.2)\n",
            "Requirement already satisfied: kiwisolver>=1.0.1 in /usr/local/lib/python3.7/dist-packages (from matplotlib->torch_snippets) (1.4.0)\n",
            "Requirement already satisfied: pyparsing!=2.0.4,!=2.1.2,!=2.1.6,>=2.0.1 in /usr/local/lib/python3.7/dist-packages (from matplotlib->torch_snippets) (3.0.7)\n",
            "Requirement already satisfied: entrypoints in /usr/local/lib/python3.7/dist-packages (from altair->torch_snippets) (0.4)\n",
            "Requirement already satisfied: jinja2 in /usr/local/lib/python3.7/dist-packages (from altair->torch_snippets) (2.11.3)\n",
            "Requirement already satisfied: jsonschema>=3.0 in /usr/local/lib/python3.7/dist-packages (from altair->torch_snippets) (4.3.3)\n",
            "Requirement already satisfied: toolz in /usr/local/lib/python3.7/dist-packages (from altair->torch_snippets) (0.11.2)\n",
            "Requirement already satisfied: importlib-metadata in /usr/local/lib/python3.7/dist-packages (from jsonschema>=3.0->altair->torch_snippets) (4.11.3)\n",
            "Requirement already satisfied: attrs>=17.4.0 in /usr/local/lib/python3.7/dist-packages (from jsonschema>=3.0->altair->torch_snippets) (21.4.0)\n",
            "Requirement already satisfied: pyrsistent!=0.17.0,!=0.17.1,!=0.17.2,>=0.14.0 in /usr/local/lib/python3.7/dist-packages (from jsonschema>=3.0->altair->torch_snippets) (0.18.1)\n",
            "Requirement already satisfied: importlib-resources>=1.4.0 in /usr/local/lib/python3.7/dist-packages (from jsonschema>=3.0->altair->torch_snippets) (5.4.0)\n",
            "Requirement already satisfied: zipp>=3.1.0 in /usr/local/lib/python3.7/dist-packages (from importlib-resources>=1.4.0->jsonschema>=3.0->altair->torch_snippets) (3.7.0)\n",
            "Requirement already satisfied: pytz>=2017.3 in /usr/local/lib/python3.7/dist-packages (from pandas->torch_snippets) (2018.9)\n",
            "Requirement already satisfied: packaging in /usr/local/lib/python3.7/dist-packages (from fastcore->torch_snippets) (21.3)\n",
            "Requirement already satisfied: pip in /usr/local/lib/python3.7/dist-packages (from fastcore->torch_snippets) (21.1.3)\n",
            "Requirement already satisfied: pexpect in /usr/local/lib/python3.7/dist-packages (from ipython->torch_snippets) (4.8.0)\n",
            "Requirement already satisfied: simplegeneric>0.8 in /usr/local/lib/python3.7/dist-packages (from ipython->torch_snippets) (0.8.1)\n",
            "Requirement already satisfied: decorator in /usr/local/lib/python3.7/dist-packages (from ipython->torch_snippets) (4.4.2)\n",
            "Requirement already satisfied: setuptools>=18.5 in /usr/local/lib/python3.7/dist-packages (from ipython->torch_snippets) (57.4.0)\n",
            "Requirement already satisfied: prompt-toolkit<2.0.0,>=1.0.4 in /usr/local/lib/python3.7/dist-packages (from ipython->torch_snippets) (1.0.18)\n",
            "Requirement already satisfied: pickleshare in /usr/local/lib/python3.7/dist-packages (from ipython->torch_snippets) (0.7.5)\n",
            "Requirement already satisfied: pygments in /usr/local/lib/python3.7/dist-packages (from ipython->torch_snippets) (2.6.1)\n",
            "Requirement already satisfied: traitlets>=4.2 in /usr/local/lib/python3.7/dist-packages (from ipython->torch_snippets) (5.1.1)\n",
            "Requirement already satisfied: wcwidth in /usr/local/lib/python3.7/dist-packages (from prompt-toolkit<2.0.0,>=1.0.4->ipython->torch_snippets) (0.2.5)\n",
            "Requirement already satisfied: MarkupSafe>=0.23 in /usr/local/lib/python3.7/dist-packages (from jinja2->altair->torch_snippets) (2.0.1)\n",
            "Requirement already satisfied: ptyprocess>=0.5 in /usr/local/lib/python3.7/dist-packages (from pexpect->ipython->torch_snippets) (0.7.0)\n",
            "Collecting commonmark<0.10.0,>=0.9.0\n",
            "  Downloading commonmark-0.9.1-py2.py3-none-any.whl (51 kB)\n",
            "\u001b[K     |████████████████████████████████| 51 kB 7.4 MB/s \n",
            "\u001b[?25hBuilding wheels for collected packages: typing\n",
            "  Building wheel for typing (setup.py) ... \u001b[?25l\u001b[?25hdone\n",
            "  Created wheel for typing: filename=typing-3.7.4.3-py3-none-any.whl size=26325 sha256=d68db2b1d9474d53f28523c2de1db452c5124f0e53d039e523fe97de53f442e4\n",
            "  Stored in directory: /root/.cache/pip/wheels/35/f3/15/01aa6571f0a72ee6ae7b827c1491c37a1f72d686fd22b43b0e\n",
            "Successfully built typing\n",
            "Installing collected packages: commonmark, typing, rich, pydantic, loguru, jsonlines, imgaug, fastcore, torch-snippets\n",
            "  Attempting uninstall: imgaug\n",
            "    Found existing installation: imgaug 0.2.9\n",
            "    Uninstalling imgaug-0.2.9:\n",
            "      Successfully uninstalled imgaug-0.2.9\n",
            "\u001b[31mERROR: pip's dependency resolver does not currently take into account all the packages that are installed. This behaviour is the source of the following dependency conflicts.\n",
            "albumentations 0.1.12 requires imgaug<0.2.7,>=0.2.5, but you have imgaug 0.4.0 which is incompatible.\u001b[0m\n",
            "Successfully installed commonmark-0.9.1 fastcore-1.4.1 imgaug-0.4.0 jsonlines-3.0.0 loguru-0.6.0 pydantic-1.9.0 rich-12.1.0 torch-snippets-0.485 typing-3.7.4.3\n"
          ]
        },
        {
          "output_type": "display_data",
          "data": {
            "application/vnd.colab-display-data+json": {
              "pip_warning": {
                "packages": [
                  "typing"
                ]
              }
            }
          },
          "metadata": {}
        }
      ]
    },
    {
      "cell_type": "code",
      "source": [
        "from torch_snippets import Report\n",
        "model = get_model().to(device)\n",
        "\n",
        "optimizer = torch.optim.SGD(model.parameters(), lr=0.005,momentum=0.9, weight_decay=0.0005)\n",
        "\n",
        "n_epochs = 20\n",
        "log = Report(n_epochs)"
      ],
      "metadata": {
        "id": "yy84Is-Hzbi-"
      },
      "execution_count": null,
      "outputs": []
    },
    {
      "cell_type": "code",
      "source": [
        ""
      ],
      "metadata": {
        "id": "Xhr1kejZbP_2"
      },
      "execution_count": null,
      "outputs": []
    },
    {
      "cell_type": "code",
      "source": [
        "for epoch in range(n_epochs):\n",
        "  # to track the training loss as the model trains\n",
        "    train_losses = []\n",
        "    # to track the validation loss as the model trains\n",
        "    valid_losses = []\n",
        "    # to track the average training loss per epoch as the model trains\n",
        "    avg_train_losses = []\n",
        "    # to track the average validation loss per epoch as the model trains\n",
        "    avg_valid_losses = [] \n",
        "\n",
        "    # initialize the early_stopping object\n",
        "    early_stopping = EarlyStopping(patience=3, verbose=True)\n",
        "\n",
        "    _n = len(train_loader)\n",
        "    for ix, inputs in enumerate(train_loader):\n",
        "        loss, losses = train_batch(inputs, model, optimizer)\n",
        "        loc_loss, regr_loss, loss_objectness, loss_rpn_box_reg = \\\n",
        "            [losses[k] for k in ['loss_classifier','loss_box_reg','loss_objectness','loss_rpn_box_reg']]\n",
        "        pos = (epoch + (ix+1)/_n)\n",
        "        log.record(pos, trn_loss=loss.item(), trn_loc_loss=loc_loss.item(), \n",
        "                   trn_regr_loss=regr_loss.item(), trn_objectness_loss=loss_objectness.item(),\n",
        "                   trn_rpn_box_reg_loss=loss_rpn_box_reg.item(), end='\\r')\n",
        "        # record training loss\n",
        "        train_losses.append(loss.item())\n",
        "\n",
        "    _n = len(test_loader)\n",
        "    for ix,inputs in enumerate(test_loader):\n",
        "        loss, losses = validate_batch(inputs, model)\n",
        "        loc_loss, regr_loss, loss_objectness, loss_rpn_box_reg = \\\n",
        "          [losses[k] for k in ['loss_classifier','loss_box_reg','loss_objectness','loss_rpn_box_reg']]\n",
        "        pos = (epoch + (ix+1)/_n)\n",
        "        log.record(pos, val_loss=loss.item(), val_loc_loss=loc_loss.item(), \n",
        "                  val_regr_loss=regr_loss.item(), val_objectness_loss=loss_objectness.item(),\n",
        "                  val_rpn_box_reg_loss=loss_rpn_box_reg.item(), end='\\r')\n",
        "        # record validation loss\n",
        "        valid_losses.append(loss.item())\n",
        "\n",
        "\n",
        "    # print training/validation statistics \n",
        "    # calculate average loss over an epoch\n",
        "    train_loss = np.average(train_losses)\n",
        "    valid_loss = np.average(valid_losses)\n",
        "    avg_train_losses.append(train_loss)\n",
        "    avg_valid_losses.append(valid_loss)\n",
        "        \n",
        "    epoch_len = len(str(n_epochs))\n",
        "        \n",
        "    print_msg = (f'[{epoch:>{epoch_len}}/{n_epochs:>{epoch_len}}] ' +\n",
        "                 f'train_loss: {train_loss:.5f} ' +\n",
        "                 f'valid_loss: {valid_loss:.5f}')\n",
        "        \n",
        "    print(print_msg)\n",
        "        \n",
        "    # clear lists to track next epoch\n",
        "    train_losses = []\n",
        "    valid_losses = []\n",
        "        \n",
        "    # early_stopping needs the validation loss to check if it has decresed, \n",
        "    # and if it has, it will make a checkpoint of the current model\n",
        "    early_stopping(valid_loss, model)\n",
        "        \n",
        "    if early_stopping.early_stop:\n",
        "      print(\"Early stopping\")\n",
        "      break\n",
        "    print('\\n')    \n",
        "    # load the last checkpoint with the best model\n",
        "    model.load_state_dict(torch.load('checkpoint.pt'))\n",
        "\n",
        "    if (epoch+1)%(n_epochs//5)==0: log.report_avgs(epoch+1)"
      ],
      "metadata": {
        "colab": {
          "base_uri": "https://localhost:8080/"
        },
        "id": "Qstz0bSkJbkA",
        "outputId": "b54ef902-fd72-48ce-8857-42b01288baad"
      },
      "execution_count": null,
      "outputs": [
        {
          "output_type": "stream",
          "name": "stderr",
          "text": [
            "/usr/local/lib/python3.7/dist-packages/ipykernel_launcher.py:23: UserWarning: Boolean Series key will be reindexed to match DataFrame index.\n"
          ]
        },
        {
          "output_type": "stream",
          "name": "stdout",
          "text": [
            "EPOCH: 1.000\tval_loss: 0.791\tval_loc_loss: 0.224\tval_regr_loss: 0.202\tval_objectness_loss: 0.163\tval_rpn_box_reg_loss: 0.202\t(278.61s - 5293.55s remaining)[ 0/20] train_loss: 3.41358 valid_loss: 8.47075\n",
            "Validation loss decreased (inf --> 8.470755).  Saving model ...\n",
            "\n",
            "\n",
            "EPOCH: 2.000\tval_loss: 0.835\tval_loc_loss: 0.285\tval_regr_loss: 0.193\tval_objectness_loss: 0.138\tval_rpn_box_reg_loss: 0.218\t(375.62s - 3380.54s remaining)[ 1/20] train_loss: 3.13038 valid_loss: 8.48996\n",
            "Validation loss decreased (inf --> 8.489963).  Saving model ...\n",
            "\n",
            "\n",
            "EPOCH: 3.000\tval_loss: 0.745\tval_loc_loss: 0.271\tval_regr_loss: 0.183\tval_objectness_loss: 0.112\tval_rpn_box_reg_loss: 0.179\t(473.25s - 2681.76s remaining)[ 2/20] train_loss: 3.08916 valid_loss: 8.40034\n",
            "Validation loss decreased (inf --> 8.400340).  Saving model ...\n",
            "\n",
            "\n",
            "EPOCH: 4.000\tval_loss: 0.722\tval_loc_loss: 0.261\tval_regr_loss: 0.163\tval_objectness_loss: 0.128\tval_rpn_box_reg_loss: 0.170\t(570.78s - 2283.13s remaining)[ 3/20] train_loss: 2.99717 valid_loss: 8.54445\n",
            "Validation loss decreased (inf --> 8.544451).  Saving model ...\n",
            "\n",
            "\n",
            "EPOCH: 4.000\ttrn_loss: 2.999\ttrn_loc_loss: 0.257\ttrn_regr_loss: 0.220\ttrn_objectness_loss: 0.232\ttrn_rpn_box_reg_loss: 2.289\tval_loss: 8.552\tval_loc_loss: 0.271\tval_regr_loss: 0.189\tval_objectness_loss: 0.288\tval_rpn_box_reg_loss: 7.804\t(571.37s - 2285.50s remaining)\n",
            "EPOCH: 5.000\tval_loss: 0.695\tval_loc_loss: 0.259\tval_regr_loss: 0.153\tval_objectness_loss: 0.135\tval_rpn_box_reg_loss: 0.148\t(668.30s - 2004.91s remaining)[ 4/20] train_loss: 2.98468 valid_loss: 8.36683\n",
            "Validation loss decreased (inf --> 8.366827).  Saving model ...\n",
            "\n",
            "\n",
            "EPOCH: 6.000\tval_loss: 0.735\tval_loc_loss: 0.259\tval_regr_loss: 0.174\tval_objectness_loss: 0.145\tval_rpn_box_reg_loss: 0.158\t(765.77s - 1786.80s remaining)[ 5/20] train_loss: 2.92475 valid_loss: 8.22249\n",
            "Validation loss decreased (inf --> 8.222487).  Saving model ...\n",
            "\n",
            "\n",
            "EPOCH: 7.000\tval_loss: 0.730\tval_loc_loss: 0.271\tval_regr_loss: 0.172\tval_objectness_loss: 0.138\tval_rpn_box_reg_loss: 0.149\t(862.99s - 1602.69s remaining)[ 6/20] train_loss: 2.84242 valid_loss: 7.99959\n",
            "Validation loss decreased (inf --> 7.999588).  Saving model ...\n",
            "\n",
            "\n",
            "EPOCH: 8.000\tval_loss: 0.719\tval_loc_loss: 0.242\tval_regr_loss: 0.158\tval_objectness_loss: 0.134\tval_rpn_box_reg_loss: 0.184\t(960.40s - 1440.60s remaining)[ 7/20] train_loss: 2.76361 valid_loss: 8.21637\n",
            "Validation loss decreased (inf --> 8.216374).  Saving model ...\n",
            "\n",
            "\n",
            "EPOCH: 8.000\ttrn_loss: 2.764\ttrn_loc_loss: 0.235\ttrn_regr_loss: 0.184\ttrn_objectness_loss: 0.254\ttrn_rpn_box_reg_loss: 2.091\tval_loss: 8.220\tval_loc_loss: 0.274\tval_regr_loss: 0.192\tval_objectness_loss: 0.365\tval_rpn_box_reg_loss: 7.389\t(960.99s - 1441.49s remaining)\n",
            "EPOCH: 9.000\tval_loss: 0.783\tval_loc_loss: 0.258\tval_regr_loss: 0.173\tval_objectness_loss: 0.143\tval_rpn_box_reg_loss: 0.209\t(1057.88s - 1292.97s remaining)[ 8/20] train_loss: 2.87580 valid_loss: 8.08749\n",
            "Validation loss decreased (inf --> 8.087486).  Saving model ...\n",
            "\n",
            "\n",
            "EPOCH: 10.000\tval_loss: 0.757\tval_loc_loss: 0.266\tval_regr_loss: 0.189\tval_objectness_loss: 0.141\tval_rpn_box_reg_loss: 0.162\t(1155.59s - 1155.59s remaining)[ 9/20] train_loss: 2.92365 valid_loss: 8.07552\n",
            "Validation loss decreased (inf --> 8.075520).  Saving model ...\n",
            "\n",
            "\n",
            "EPOCH: 11.000\tval_loss: 0.747\tval_loc_loss: 0.253\tval_regr_loss: 0.163\tval_objectness_loss: 0.156\tval_rpn_box_reg_loss: 0.176\t(1253.13s - 1025.29s remaining)[10/20] train_loss: 2.76859 valid_loss: 7.85007\n",
            "Validation loss decreased (inf --> 7.850071).  Saving model ...\n",
            "\n",
            "\n",
            "EPOCH: 12.000\tval_loss: 0.769\tval_loc_loss: 0.257\tval_regr_loss: 0.181\tval_objectness_loss: 0.168\tval_rpn_box_reg_loss: 0.163\t(1350.30s - 900.20s remaining)[11/20] train_loss: 2.86864 valid_loss: 7.79208\n",
            "Validation loss decreased (inf --> 7.792078).  Saving model ...\n",
            "\n",
            "\n",
            "EPOCH: 12.000\ttrn_loss: 2.868\ttrn_loc_loss: 0.262\ttrn_regr_loss: 0.208\ttrn_objectness_loss: 0.235\ttrn_rpn_box_reg_loss: 2.164\tval_loss: 7.785\tval_loc_loss: 0.281\tval_regr_loss: 0.195\tval_objectness_loss: 0.312\tval_rpn_box_reg_loss: 6.997\t(1350.91s - 900.61s remaining)\n",
            "EPOCH: 13.000\tval_loss: 0.728\tval_loc_loss: 0.254\tval_regr_loss: 0.155\tval_objectness_loss: 0.164\tval_rpn_box_reg_loss: 0.155\t(1447.65s - 779.50s remaining)[12/20] train_loss: 2.74349 valid_loss: 7.78969\n",
            "Validation loss decreased (inf --> 7.789694).  Saving model ...\n",
            "\n",
            "\n",
            "EPOCH: 14.000\tval_loss: 0.859\tval_loc_loss: 0.284\tval_regr_loss: 0.188\tval_objectness_loss: 0.211\tval_rpn_box_reg_loss: 0.176\t(1544.98s - 662.13s remaining)[13/20] train_loss: 2.67074 valid_loss: 7.90645\n",
            "Validation loss decreased (inf --> 7.906446).  Saving model ...\n",
            "\n",
            "\n",
            "EPOCH: 15.000\tval_loss: 0.773\tval_loc_loss: 0.265\tval_regr_loss: 0.165\tval_objectness_loss: 0.138\tval_rpn_box_reg_loss: 0.205\t(1642.25s - 547.42s remaining)[14/20] train_loss: 2.68675 valid_loss: 7.15415\n",
            "Validation loss decreased (inf --> 7.154150).  Saving model ...\n",
            "\n",
            "\n",
            "EPOCH: 16.000\tval_loss: 0.794\tval_loc_loss: 0.272\tval_regr_loss: 0.166\tval_objectness_loss: 0.158\tval_rpn_box_reg_loss: 0.198\t(1739.51s - 434.88s remaining)[15/20] train_loss: 2.59910 valid_loss: 8.05667\n",
            "Validation loss decreased (inf --> 8.056668).  Saving model ...\n",
            "\n",
            "\n",
            "EPOCH: 16.000\ttrn_loss: 2.599\ttrn_loc_loss: 0.242\ttrn_regr_loss: 0.184\ttrn_objectness_loss: 0.234\ttrn_rpn_box_reg_loss: 1.939\tval_loss: 8.050\tval_loc_loss: 0.262\tval_regr_loss: 0.162\tval_objectness_loss: 0.310\tval_rpn_box_reg_loss: 7.315\t(1740.10s - 435.03s remaining)\n",
            "EPOCH: 17.000\tval_loss: 0.664\tval_loc_loss: 0.242\tval_regr_loss: 0.159\tval_objectness_loss: 0.097\tval_rpn_box_reg_loss: 0.166\t(1836.56s - 324.10s remaining)[16/20] train_loss: 2.59032 valid_loss: 7.23769\n",
            "Validation loss decreased (inf --> 7.237689).  Saving model ...\n",
            "\n",
            "\n",
            "EPOCH: 18.000\tval_loss: 0.799\tval_loc_loss: 0.297\tval_regr_loss: 0.203\tval_objectness_loss: 0.138\tval_rpn_box_reg_loss: 0.162\t(1933.82s - 214.87s remaining)[17/20] train_loss: 2.80779 valid_loss: 8.17528\n",
            "Validation loss decreased (inf --> 8.175276).  Saving model ...\n",
            "\n",
            "\n",
            "EPOCH: 19.000\tval_loss: 0.830\tval_loc_loss: 0.248\tval_regr_loss: 0.163\tval_objectness_loss: 0.199\tval_rpn_box_reg_loss: 0.219\t(2031.37s - 106.91s remaining)[18/20] train_loss: 2.62461 valid_loss: 6.90819\n",
            "Validation loss decreased (inf --> 6.908191).  Saving model ...\n",
            "\n",
            "\n",
            "EPOCH: 20.000\tval_loss: 0.758\tval_loc_loss: 0.290\tval_regr_loss: 0.194\tval_objectness_loss: 0.106\tval_rpn_box_reg_loss: 0.169\t(2128.62s - 0.00s remaining)[19/20] train_loss: 2.48513 valid_loss: 7.65292\n",
            "Validation loss decreased (inf --> 7.652918).  Saving model ...\n",
            "\n",
            "\n",
            "EPOCH: 20.000\ttrn_loss: 2.487\ttrn_loc_loss: 0.238\ttrn_regr_loss: 0.181\ttrn_objectness_loss: 0.240\ttrn_rpn_box_reg_loss: 1.828\tval_loss: 7.677\tval_loc_loss: 0.285\tval_regr_loss: 0.180\tval_objectness_loss: 0.380\tval_rpn_box_reg_loss: 6.832\t(2129.17s - 0.00s remaining)\n"
          ]
        }
      ]
    },
    {
      "cell_type": "markdown",
      "source": [
        ""
      ],
      "metadata": {
        "id": "4e0NVOINSWvy"
      }
    },
    {
      "cell_type": "markdown",
      "source": [
        "**Visualizing the Loss and the Early Stopping Checkpoint**\n",
        "From the plot we can see that the last Early Stopping Checkpoint was saved right before the model started to overfit."
      ],
      "metadata": {
        "id": "2RjCXY1kSW0f"
      }
    },
    {
      "cell_type": "code",
      "source": [
        "from matplotlib import pyplot as plt\n",
        "\n",
        "# visualize the loss as the network trained\n",
        "fig = plt.figure(figsize=(10,8))\n",
        "plt.plot(range(1,len(train_losses)+1),train_losses, label='Training Loss')\n",
        "plt.plot(range(1,len(valid_losses)+1),valid_losses,label='Validation Loss')\n",
        "\n",
        "# find position of lowest validation loss\n",
        "minposs = valid_losses.index(min(valid_losses))+1 \n",
        "plt.axvline(minposs, linestyle='--', color='r',label='Early Stopping Checkpoint')\n",
        "\n",
        "plt.xlabel('epochs')\n",
        "plt.ylabel('loss')\n",
        "plt.ylim(0, 0.5) # consistent scale\n",
        "plt.xlim(0, len(train_losses)+1) # consistent scale\n",
        "plt.grid(True)\n",
        "plt.legend()\n",
        "plt.tight_layout()\n",
        "plt.show()\n",
        "fig.savefig('loss_plot.png', bbox_inches='tight')\n"
      ],
      "metadata": {
        "id": "oy7wC28rSSpB"
      },
      "execution_count": null,
      "outputs": []
    },
    {
      "cell_type": "code",
      "source": [
        "valid_losses"
      ],
      "metadata": {
        "colab": {
          "base_uri": "https://localhost:8080/"
        },
        "id": "9WvZUTwZdJ9q",
        "outputId": "19092e54-4e79-4dac-c464-d2669950d1d3"
      },
      "execution_count": null,
      "outputs": [
        {
          "output_type": "execute_result",
          "data": {
            "text/plain": [
              "[]"
            ]
          },
          "metadata": {},
          "execution_count": 54
        }
      ]
    },
    {
      "cell_type": "code",
      "source": [
        "log.plot_epochs(['trn_loss','val_loss'])"
      ],
      "metadata": {
        "colab": {
          "base_uri": "https://localhost:8080/",
          "height": 405
        },
        "id": "xdw8BvEG0K69",
        "outputId": "ac72c954-daa0-418b-d0b6-c545f8484300"
      },
      "execution_count": null,
      "outputs": [
        {
          "output_type": "stream",
          "name": "stderr",
          "text": [
            "100%|██████████| 121/121 [00:00<00:00, 5016.22it/s]\n"
          ]
        },
        {
          "output_type": "display_data",
          "data": {
            "text/plain": [
              "<Figure size 576x432 with 1 Axes>"
            ],
            "image/png": "[encoded data removed]"
          },
          "metadata": {
            "needs_background": "light"
          }
        }
      ]
    },
    {
      "cell_type": "code",
      "source": [
        "from torchvision.ops import nms\n",
        "def decode_output(output):\n",
        "    'convert tensors to numpy arrays'\n",
        "    bbs = output['boxes'].cpu().detach().numpy().astype(np.uint16)\n",
        "    labels = np.array([target2label[i] for i in output['labels'].cpu().detach().numpy()])\n",
        "    confs = output['scores'].cpu().detach().numpy()\n",
        "    ixs = nms(torch.tensor(bbs.astype(np.float32)), torch.tensor(confs), 0.05)\n",
        "    bbs, confs, labels = [tensor[ixs] for tensor in [bbs, confs, labels]]\n",
        "\n",
        "    if len(ixs) == 1:\n",
        "        bbs, confs, labels = [np.array([tensor]) for tensor in [bbs, confs, labels]]\n",
        "    return bbs.tolist(), confs.tolist(), labels.tolist()\n"
      ],
      "metadata": {
        "id": "rPoHt4DC0UFe"
      },
      "execution_count": null,
      "outputs": []
    },
    {
      "cell_type": "code",
      "source": [
        "help(output['boxes'])"
      ],
      "metadata": {
        "id": "eMEP1hV127Oi"
      },
      "execution_count": null,
      "outputs": []
    },
    {
      "cell_type": "code",
      "source": [
        "from matplotlib import pyplot as plt\n",
        "import cv2\n",
        "from google.colab.patches import cv2_imshow\n",
        "\n",
        "model.eval()\n",
        "for ix, (images, targets) in enumerate(test_loader):\n",
        "    if ix==3: break\n",
        "    images = [im for im in images]\n",
        "    outputs = model(images)\n",
        "    cv2_imshow(images[ix].cpu().permute(1,2,0).numpy())\n",
        "    for ix, output in enumerate(outputs):\n",
        "        bbs, confs, labels = decode_output(output)\n",
        "        info = [f'{l}@{c:.2f}' for l,c in zip(labels, confs)]\n",
        "        image1 = images[ix].cpu().permute(1,2,0).numpy()\n",
        "        #image1 = cv2.cvtColor(image1,cv2.COLOR_BGR2RGB)\n",
        "        #print (type(image1))\n",
        "        #print ([tuple(bb) for bb in bbs])\n",
        "        for bb in bbs:\n",
        "          #print (tuple(bb))\n",
        "          # print((bb[0],bb[1]),(bb[2],bb[3]))\n",
        "          #print(type(image1))\n",
        "          cv2.rectangle(image1,(bb[0],bb[1]),(bb[2],bb[3]),(255,0,0),3)\n",
        "          #cv2.rectangle(image1,(100,100),(200,200),(255, 0, 0), 3)\n",
        "          # cv2.rectangle(image1,(bb[0],bb[1]),(bb[2],bb[3]),(255, 0, 0), 3)\n",
        "          #print (images[ix].shape,bbs)\n",
        "        #window_name='Text detected'\n",
        "        #cv2.namedWindow(window_name, cv2.WINDOW_NORMAL)\n",
        "        plt.imshow(image1)\n",
        "        #cv2_imshow(image1)\n",
        "        #cv2.waitKey\n",
        "        #cv2.destroyWindow(window_name)\n",
        "        #cv2.destroyAllWindows() \n",
        "        \n"
      ],
      "metadata": {
        "id": "nDz9bnfh0dXF"
      },
      "execution_count": null,
      "outputs": []
    },
    {
      "cell_type": "code",
      "source": [
        ""
      ],
      "metadata": {
        "id": "aFwX18bjCAEd"
      },
      "execution_count": null,
      "outputs": []
    },
    {
      "cell_type": "code",
      "source": [
        "k = (3,1)\n",
        "print(type(k))"
      ],
      "metadata": {
        "colab": {
          "base_uri": "https://localhost:8080/"
        },
        "id": "Z9ewvpJG_sRC",
        "outputId": "81278480-7243-424c-8ac6-46df682b0b99"
      },
      "execution_count": null,
      "outputs": [
        {
          "output_type": "stream",
          "name": "stdout",
          "text": [
            "<class 'tuple'>\n"
          ]
        }
      ]
    },
    {
      "cell_type": "code",
      "source": [
        "model.eval()\n",
        "images = [im for im in images]\n",
        "outputs = model(images)"
      ],
      "metadata": {
        "id": "a1ehPCSUA9SO",
        "colab": {
          "base_uri": "https://localhost:8080/",
          "height": 200
        },
        "outputId": "646cb912-3574-434a-f809-7ee43fbc1539"
      },
      "execution_count": null,
      "outputs": [
        {
          "output_type": "error",
          "ename": "NameError",
          "evalue": "ignored",
          "traceback": [
            "\u001b[0;31m---------------------------------------------------------------------------\u001b[0m",
            "\u001b[0;31mNameError\u001b[0m                                 Traceback (most recent call last)",
            "\u001b[0;32m<ipython-input-39-474ce4cdb78e>\u001b[0m in \u001b[0;36m<module>\u001b[0;34m()\u001b[0m\n\u001b[1;32m      1\u001b[0m \u001b[0mmodel\u001b[0m\u001b[0;34m.\u001b[0m\u001b[0meval\u001b[0m\u001b[0;34m(\u001b[0m\u001b[0;34m)\u001b[0m\u001b[0;34m\u001b[0m\u001b[0;34m\u001b[0m\u001b[0m\n\u001b[0;32m----> 2\u001b[0;31m \u001b[0mimages\u001b[0m \u001b[0;34m=\u001b[0m \u001b[0;34m[\u001b[0m\u001b[0mim\u001b[0m \u001b[0;32mfor\u001b[0m \u001b[0mim\u001b[0m \u001b[0;32min\u001b[0m \u001b[0mimages\u001b[0m\u001b[0;34m]\u001b[0m\u001b[0;34m\u001b[0m\u001b[0;34m\u001b[0m\u001b[0m\n\u001b[0m\u001b[1;32m      3\u001b[0m \u001b[0moutputs\u001b[0m \u001b[0;34m=\u001b[0m \u001b[0mmodel\u001b[0m\u001b[0;34m(\u001b[0m\u001b[0mimages\u001b[0m\u001b[0;34m)\u001b[0m\u001b[0;34m\u001b[0m\u001b[0;34m\u001b[0m\u001b[0m\n",
            "\u001b[0;31mNameError\u001b[0m: name 'images' is not defined"
          ]
        }
      ]
    },
    {
      "cell_type": "code",
      "source": [
        "plt.imshow(images[2].cpu().permute(1,2,0))"
      ],
      "metadata": {
        "colab": {
          "base_uri": "https://localhost:8080/",
          "height": 286
        },
        "id": "CDIhMj1272FG",
        "outputId": "604a3dd2-378b-48f1-8d1b-c1d78f0ee13a"
      },
      "execution_count": null,
      "outputs": [
        {
          "output_type": "execute_result",
          "data": {
            "text/plain": [
              "<matplotlib.image.AxesImage at 0x7f2ba8bd5890>"
            ]
          },
          "metadata": {},
          "execution_count": 39
        },
        {
          "output_type": "display_data",
          "data": {
            "text/plain": [
              "<Figure size 432x288 with 1 Axes>"
            ],
            "image/png": "[encoded data removed]"
          },
          "metadata": {
            "needs_background": "light"
          }
        }
      ]
    },
    {
      "cell_type": "code",
      "source": [
        ""
      ],
      "metadata": {
        "id": "f-tVjJeH72BI"
      },
      "execution_count": null,
      "outputs": []
    },
    {
      "cell_type": "code",
      "source": [
        "bbs, confs, labels = decode_output(outputs[3])\n",
        "new = images[3].cpu().permute(1,2,0)\n",
        "for bb in bbs:\n",
        "  cv2.rectangle(new.numpy(),(bb[0],bb[1]),(bb[2],bb[3]),(255,0,0),3)\n",
        "\n",
        "plt.imshow(new) "
      ],
      "metadata": {
        "colab": {
          "base_uri": "https://localhost:8080/",
          "height": 304
        },
        "id": "I9y88hFIBQ7J",
        "outputId": "a228ad1a-12ed-4faf-9afc-1f6f41cfb1c6"
      },
      "execution_count": null,
      "outputs": [
        {
          "output_type": "stream",
          "name": "stderr",
          "text": [
            "Clipping input data to the valid range for imshow with RGB data ([0..1] for floats or [0..255] for integers).\n"
          ]
        },
        {
          "output_type": "execute_result",
          "data": {
            "text/plain": [
              "<matplotlib.image.AxesImage at 0x7f1916eb4ad0>"
            ]
          },
          "metadata": {},
          "execution_count": 43
        },
        {
          "output_type": "display_data",
          "data": {
            "text/plain": [
              "<Figure size 432x288 with 1 Axes>"
            ],
            "image/png": "[encoded data removed]"
          },
          "metadata": {
            "needs_background": "light"
          }
        }
      ]
    },
    {
      "cell_type": "code",
      "source": [
        "\n",
        "\n",
        "bbs, confs, labels = decode_output(outputs[1])\n",
        "new = images[1].cpu().permute(1,2,0)\n",
        "for bb in bbs:\n",
        "  cv2.rectangle(new.numpy(),(bb[0],bb[1]),(bb[2],bb[3]),(255,0,0),3)\n",
        "\n",
        "plt.imshow(new)  "
      ],
      "metadata": {
        "colab": {
          "base_uri": "https://localhost:8080/",
          "height": 304
        },
        "id": "2UkeXhqdDHHD",
        "outputId": "557acfdd-3b71-47b7-da85-f679a73452f6"
      },
      "execution_count": null,
      "outputs": [
        {
          "output_type": "stream",
          "name": "stderr",
          "text": [
            "Clipping input data to the valid range for imshow with RGB data ([0..1] for floats or [0..255] for integers).\n"
          ]
        },
        {
          "output_type": "execute_result",
          "data": {
            "text/plain": [
              "<matplotlib.image.AxesImage at 0x7f1916eec390>"
            ]
          },
          "metadata": {},
          "execution_count": 44
        },
        {
          "output_type": "display_data",
          "data": {
            "text/plain": [
              "<Figure size 432x288 with 1 Axes>"
            ],
            "image/png": "[encoded data removed]"
          },
          "metadata": {
            "needs_background": "light"
          }
        }
      ]
    },
    {
      "cell_type": "code",
      "source": [
        "bbs, confs, labels = decode_output(outputs[2])\n",
        "new = images[2].cpu().permute(1,2,0)\n",
        "for bb in bbs:\n",
        "  cv2.rectangle(new.numpy(),(bb[0],bb[1]),(bb[2],bb[3]),(255,0,0),3)\n",
        "\n",
        "plt.imshow(new)"
      ],
      "metadata": {
        "colab": {
          "base_uri": "https://localhost:8080/",
          "height": 304
        },
        "id": "mPJUMMV4FiqN",
        "outputId": "d652fea4-3a3e-427d-e753-b3f465c97221"
      },
      "execution_count": null,
      "outputs": [
        {
          "output_type": "stream",
          "name": "stderr",
          "text": [
            "Clipping input data to the valid range for imshow with RGB data ([0..1] for floats or [0..255] for integers).\n"
          ]
        },
        {
          "output_type": "execute_result",
          "data": {
            "text/plain": [
              "<matplotlib.image.AxesImage at 0x7f1913f19d50>"
            ]
          },
          "metadata": {},
          "execution_count": 45
        },
        {
          "output_type": "display_data",
          "data": {
            "text/plain": [
              "<Figure size 432x288 with 1 Axes>"
            ],
            "image/png": "[encoded data removed]"
          },
          "metadata": {
            "needs_background": "light"
          }
        }
      ]
    },
    {
      "cell_type": "code",
      "source": [
        "bbs, confs, labels = decode_output(outputs[0])\n",
        "new = images[0].cpu().permute(1,2,0)\n",
        "for bb in bbs:\n",
        "  cv2.rectangle(new.numpy(),(bb[0],bb[1]),(bb[2],bb[3]),(255,0,0),3)\n",
        "\n",
        "plt.imshow(new) "
      ],
      "metadata": {
        "colab": {
          "base_uri": "https://localhost:8080/",
          "height": 304
        },
        "id": "fI55CJuLCH3M",
        "outputId": "1c8cacef-abb1-4219-bf7c-b706a24b02e0"
      },
      "execution_count": null,
      "outputs": [
        {
          "output_type": "stream",
          "name": "stderr",
          "text": [
            "Clipping input data to the valid range for imshow with RGB data ([0..1] for floats or [0..255] for integers).\n"
          ]
        },
        {
          "output_type": "execute_result",
          "data": {
            "text/plain": [
              "<matplotlib.image.AxesImage at 0x7f1913e81590>"
            ]
          },
          "metadata": {},
          "execution_count": 46
        },
        {
          "output_type": "display_data",
          "data": {
            "text/plain": [
              "<Figure size 432x288 with 1 Axes>"
            ],
            "image/png": "[encoded data removed]"
          },
          "metadata": {
            "needs_background": "light"
          }
        }
      ]
    },
    {
      "cell_type": "code",
      "source": [
        "!pip install pytorchtools"
      ],
      "metadata": {
        "colab": {
          "base_uri": "https://localhost:8080/"
        },
        "id": "fut9uJvHJ26j",
        "outputId": "25b33698-3182-4637-e89a-9b50a00e9cc3"
      },
      "execution_count": null,
      "outputs": [
        {
          "output_type": "stream",
          "name": "stdout",
          "text": [
            "Requirement already satisfied: pytorchtools in /usr/local/lib/python3.7/dist-packages (0.0.2)\n"
          ]
        }
      ]
    }
  ]
}